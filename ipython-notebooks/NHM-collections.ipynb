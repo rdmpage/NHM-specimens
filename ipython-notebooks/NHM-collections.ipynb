{
 "metadata": {
  "name": "",
  "signature": "sha256:f31d8994561161cc0a41b7f54d72c6d3ad6762c24282468cc1a2ed86f1b113ff"
 },
 "nbformat": 3,
 "nbformat_minor": 0,
 "worksheets": [
  {
   "cells": [
    {
     "cell_type": "code",
     "collapsed": false,
     "input": [
      "#!sudo apt-get install python-dev python-pip python-setuptools build-essential\n",
      "#!pip install --upgrade setuptools\n",
      "#!pip install csvkit\n",
      "#!pip install --upgrade csvkit"
     ],
     "language": "python",
     "metadata": {},
     "outputs": [],
     "prompt_number": 6
    },
    {
     "cell_type": "code",
     "collapsed": false,
     "input": [
      "!ls -lrth"
     ],
     "language": "python",
     "metadata": {},
     "outputs": [
      {
       "output_type": "stream",
       "stream": "stdout",
       "text": [
        "total 2.2G\r\n",
        "-rw-r--r-- 1 ross ross 1.7G May  1 19:34 occurrence.csv\r\n",
        "-rw-r--r-- 1 ross ross 163M May  1 19:34 multimedia.csv\r\n",
        "-rw-r--r-- 1 ross ross 6.1K May  1 19:34 meta.xml\r\n",
        "-rw-rw-r-- 1 ross ross 409M May  1 19:51 5d27e8acaac843c4a804e881fb4c6934-99-1430505285.zip\r\n",
        "-rw------- 1 ross ross  181 May  1 20:51 NHM-collections.ipynb\r\n"
       ]
      }
     ],
     "prompt_number": 3
    },
    {
     "cell_type": "code",
     "collapsed": false,
     "input": [
      "import sys\n",
      "print (sys.version)"
     ],
     "language": "python",
     "metadata": {},
     "outputs": [
      {
       "output_type": "stream",
       "stream": "stdout",
       "text": [
        "2.7.9 (default, Apr  2 2015, 15:33:21) \n",
        "[GCC 4.9.2]\n"
       ]
      }
     ],
     "prompt_number": 9
    },
    {
     "cell_type": "code",
     "collapsed": false,
     "input": [
      "%env"
     ],
     "language": "python",
     "metadata": {},
     "outputs": [
      {
       "metadata": {},
       "output_type": "pyout",
       "prompt_number": 10,
       "text": [
        "{'CLICOLOR': '1',\n",
        " 'CLUTTER_IM_MODULE': 'xim',\n",
        " 'COMP_WORDBREAKS': ' \\t\\n\"\\'><;|&(:',\n",
        " 'DBUS_SESSION_BUS_ADDRESS': 'unix:abstract=/tmp/dbus-ffQSThD6QG',\n",
        " 'DEFAULTS_PATH': '/usr/share/gconf/Lubuntu.default.path',\n",
        " 'DESKTOP_SESSION': 'Lubuntu',\n",
        " 'DISPLAY': ':0',\n",
        " 'GDMSESSION': 'Lubuntu',\n",
        " 'GDM_LANG': 'en_GB',\n",
        " 'GIT_PAGER': 'cat',\n",
        " 'GNOME_KEYRING_CONTROL': '',\n",
        " 'GNOME_KEYRING_PID': '',\n",
        " 'GPG_AGENT_INFO': '/run/user/1000/keyring/gpg:0:1',\n",
        " 'GTK_IM_MODULE': 'xim',\n",
        " 'HOME': '/home/ross',\n",
        " 'IM_CONFIG_PHASE': '1',\n",
        " 'INSTANCE': '',\n",
        " 'JOB': 'dbus',\n",
        " 'LANG': 'en_GB.UTF-8',\n",
        " 'LANGUAGE': 'en_GB:en',\n",
        " 'LESSCLOSE': '/usr/bin/lesspipe %s %s',\n",
        " 'LESSOPEN': '| /usr/bin/lesspipe %s',\n",
        " 'LOGNAME': 'ross',\n",
        " 'LS_COLORS': 'rs=0:di=01;34:ln=01;36:mh=00:pi=40;33:so=01;35:do=01;35:bd=40;33;01:cd=40;33;01:or=40;31;01:su=37;41:sg=30;43:ca=30;41:tw=30;42:ow=34;42:st=37;44:ex=01;32:*.tar=01;31:*.tgz=01;31:*.arc=01;31:*.arj=01;31:*.taz=01;31:*.lha=01;31:*.lz4=01;31:*.lzh=01;31:*.lzma=01;31:*.tlz=01;31:*.txz=01;31:*.tzo=01;31:*.t7z=01;31:*.zip=01;31:*.z=01;31:*.Z=01;31:*.dz=01;31:*.gz=01;31:*.lrz=01;31:*.lz=01;31:*.lzo=01;31:*.xz=01;31:*.bz2=01;31:*.bz=01;31:*.tbz=01;31:*.tbz2=01;31:*.tz=01;31:*.deb=01;31:*.rpm=01;31:*.jar=01;31:*.war=01;31:*.ear=01;31:*.sar=01;31:*.rar=01;31:*.alz=01;31:*.ace=01;31:*.zoo=01;31:*.cpio=01;31:*.7z=01;31:*.rz=01;31:*.cab=01;31:*.jpg=01;35:*.jpeg=01;35:*.gif=01;35:*.bmp=01;35:*.pbm=01;35:*.pgm=01;35:*.ppm=01;35:*.tga=01;35:*.xbm=01;35:*.xpm=01;35:*.tif=01;35:*.tiff=01;35:*.png=01;35:*.svg=01;35:*.svgz=01;35:*.mng=01;35:*.pcx=01;35:*.mov=01;35:*.mpg=01;35:*.mpeg=01;35:*.m2v=01;35:*.mkv=01;35:*.webm=01;35:*.ogm=01;35:*.mp4=01;35:*.m4v=01;35:*.mp4v=01;35:*.vob=01;35:*.qt=01;35:*.nuv=01;35:*.wmv=01;35:*.asf=01;35:*.rm=01;35:*.rmvb=01;35:*.flc=01;35:*.avi=01;35:*.fli=01;35:*.flv=01;35:*.gl=01;35:*.dl=01;35:*.xcf=01;35:*.xwd=01;35:*.yuv=01;35:*.cgm=01;35:*.emf=01;35:*.axv=01;35:*.anx=01;35:*.ogv=01;35:*.ogx=01;35:*.aac=00;36:*.au=00;36:*.flac=00;36:*.m4a=00;36:*.mid=00;36:*.midi=00;36:*.mka=00;36:*.mp3=00;36:*.mpc=00;36:*.ogg=00;36:*.ra=00;36:*.wav=00;36:*.axa=00;36:*.oga=00;36:*.spx=00;36:*.xspf=00;36:',\n",
        " 'MANDATORY_PATH': '/usr/share/gconf/Lubuntu.mandatory.path',\n",
        " 'NODE_PATH': '/usr/lib/nodejs:/usr/lib/node_modules:/usr/share/javascript',\n",
        " 'PAGER': 'cat',\n",
        " 'PATH': '/usr/games:/home/ross/bin:/usr/local/sbin:/usr/local/bin:/usr/sbin:/usr/bin:/sbin:/bin:/usr/games:/usr/local/games:/home/ross/.rvm/bin:/home/ross/.rvm/bin',\n",
        " 'PVM_ROOT': '/usr/lib/pvm3',\n",
        " 'PWD': '/media/ross/ad06f767-5435-4c2d-ba8c-af2af3dea67d/corpuses/NHM/collections-export-2015-05-01',\n",
        " 'QT4_IM_MODULE': 'ibus',\n",
        " 'QT_ACCESSIBILITY': '1',\n",
        " 'QT_IM_MODULE': 'ibus',\n",
        " 'QT_PLATFORM_PLUGIN': 'lxqt',\n",
        " 'QT_QPA_PLATFORMTHEME': 'lxqt',\n",
        " 'SAL_USE_VCLPLUGIN': 'gtk',\n",
        " 'SESSION': 'Lubuntu',\n",
        " 'SESSIONTYPE': 'lxsession',\n",
        " 'SHELL': '/bin/bash',\n",
        " 'SHLVL': '1',\n",
        " 'SSH_AUTH_SOCK': '/run/user/1000/keyring/ssh',\n",
        " 'TERM': 'xterm-color',\n",
        " 'UPSTART_EVENTS': 'started xsession',\n",
        " 'UPSTART_INSTANCE': '',\n",
        " 'UPSTART_JOB': 'lxsession',\n",
        " 'UPSTART_SESSION': 'unix:abstract=/com/ubuntu/upstart-session/1000/1513',\n",
        " 'USER': 'ross',\n",
        " 'XAUTHORITY': '/home/ross/.Xauthority',\n",
        " 'XDG_CONFIG_DIRS': '/etc/xdg/lubuntu:/etc/xdg/xdg-Lubuntu:/usr/share/upstart/xdg:/etc/xdg',\n",
        " 'XDG_CONFIG_HOME': '/home/ross/.config',\n",
        " 'XDG_CURRENT_DESKTOP': 'LXDE',\n",
        " 'XDG_DATA_DIRS': '/etc/xdg/lubuntu:/usr/local/share:/usr/share:/usr/share/gdm:/var/lib/menu-xdg:/usr/share/Lubuntu:/usr/local/share/:/usr/share/',\n",
        " 'XDG_GREETER_DATA_DIR': '/var/lib/lightdm-data/ross',\n",
        " 'XDG_MENU_PREFIX': 'lxde-',\n",
        " 'XDG_RUNTIME_DIR': '/run/user/1000',\n",
        " 'XDG_SEAT': 'seat0',\n",
        " 'XDG_SEAT_PATH': '/org/freedesktop/DisplayManager/Seat0',\n",
        " 'XDG_SESSION_DESKTOP': 'Lubuntu',\n",
        " 'XDG_SESSION_ID': 'c1',\n",
        " 'XDG_SESSION_PATH': '/org/freedesktop/DisplayManager/Session0',\n",
        " 'XDG_SESSION_TYPE': 'x11',\n",
        " 'XDG_VTNR': '7',\n",
        " 'XMODIFIERS': '@im=ibus',\n",
        " '_': '/usr/bin/ipython',\n",
        " '_LXSESSION_PID': '1980'}"
       ]
      }
     ],
     "prompt_number": 10
    },
    {
     "cell_type": "code",
     "collapsed": false,
     "input": [
      "!lsb_release -a"
     ],
     "language": "python",
     "metadata": {},
     "outputs": [
      {
       "output_type": "stream",
       "stream": "stdout",
       "text": [
        "LSB Version:\tcore-2.0-amd64:core-2.0-noarch:core-3.0-amd64:core-3.0-noarch:core-3.1-amd64:core-3.1-noarch:core-3.2-amd64:core-3.2-noarch:core-4.0-amd64:core-4.0-noarch:core-4.1-amd64:core-4.1-noarch:cxx-3.0-amd64:cxx-3.0-noarch:cxx-3.1-amd64:cxx-3.1-noarch:cxx-3.2-amd64:cxx-3.2-noarch:cxx-4.0-amd64:cxx-4.0-noarch:cxx-4.1-amd64:cxx-4.1-noarch:desktop-3.1-amd64:desktop-3.1-noarch:desktop-3.2-amd64:desktop-3.2-noarch:desktop-4.0-amd64:desktop-4.0-noarch:desktop-4.1-amd64:desktop-4.1-noarch:graphics-2.0-amd64:graphics-2.0-noarch:graphics-3.0-amd64:graphics-3.0-noarch:graphics-3.1-amd64:graphics-3.1-noarch:graphics-3.2-amd64:graphics-3.2-noarch:graphics-4.0-amd64:graphics-4.0-noarch:graphics-4.1-amd64:graphics-4.1-noarch:languages-3.2-amd64:languages-3.2-noarch:languages-4.0-amd64:languages-4.0-noarch:languages-4.1-amd64:languages-4.1-noarch:multimedia-3.2-amd64:multimedia-3.2-noarch:multimedia-4.0-amd64:multimedia-4.0-noarch:multimedia-4.1-amd64:multimedia-4.1-noarch:printing-3.2-amd64:printing-3.2-noarch:printing-4.0-amd64:printing-4.0-noarch:printing-4.1-amd64:printing-4.1-noarch:qt4-3.1-amd64:qt4-3.1-noarch:security-4.0-amd64:security-4.0-noarch:security-4.1-amd64:security-4.1-noarch\r\n",
        "Distributor ID:\tUbuntu\r\n",
        "Description:\tUbuntu 15.04\r\n",
        "Release:\t15.04\r\n",
        "Codename:\tvivid\r\n"
       ]
      }
     ],
     "prompt_number": 11
    },
    {
     "cell_type": "code",
     "collapsed": false,
     "input": [
      "!lscpu"
     ],
     "language": "python",
     "metadata": {},
     "outputs": [
      {
       "output_type": "stream",
       "stream": "stdout",
       "text": [
        "Architecture:          x86_64\r\n",
        "CPU op-mode(s):        32-bit, 64-bit\r\n",
        "Byte Order:            Little Endian\r\n",
        "CPU(s):                2\r\n",
        "On-line CPU(s) list:   0,1\r\n",
        "Thread(s) per core:    1\r\n",
        "Core(s) per socket:    2\r\n",
        "Socket(s):             1\r\n",
        "NUMA node(s):          1\r\n",
        "Vendor ID:             GenuineIntel\r\n",
        "CPU family:            6\r\n",
        "Model:                 23\r\n",
        "Model name:            Intel(R) Core(TM)2 Duo CPU     E7500  @ 2.93GHz\r\n",
        "Stepping:              10\r\n",
        "CPU MHz:               2128.000\r\n",
        "CPU max MHz:           2926.0000\r\n",
        "CPU min MHz:           1596.0000\r\n",
        "BogoMIPS:              5860.89\r\n",
        "Virtualisation:        VT-x\r\n",
        "L1d cache:             32K\r\n",
        "L1i cache:             32K\r\n",
        "L2 cache:              3072K\r\n",
        "NUMA node0 CPU(s):     0,1\r\n"
       ]
      }
     ],
     "prompt_number": 14
    },
    {
     "cell_type": "code",
     "collapsed": false,
     "input": [
      "!free -m"
     ],
     "language": "python",
     "metadata": {},
     "outputs": [
      {
       "output_type": "stream",
       "stream": "stdout",
       "text": [
        "             total       used       free     shared    buffers     cached\r\n",
        "Mem:          3942       3582        360        174         52        555\r\n",
        "-/+ buffers/cache:       2974        968\r\n",
        "Swap:         7870        386       7483\r\n"
       ]
      }
     ],
     "prompt_number": 15
    },
    {
     "cell_type": "code",
     "collapsed": false,
     "input": [
      "!head -5 occurrence.csv > testit.csv"
     ],
     "language": "python",
     "metadata": {},
     "outputs": [],
     "prompt_number": 17
    },
    {
     "cell_type": "code",
     "collapsed": false,
     "input": [
      "!csvcut -c 5,12,4,71,1 testit.csv | csvlook"
     ],
     "language": "python",
     "metadata": {},
     "outputs": [
      {
       "output_type": "stream",
       "stream": "stdout",
       "text": [
        "|--------------------+----------------+--------------------------+--------------------------+----------|\r\n",
        "|  scientificName    | collectionCode | catalogNumber            | otherCatalogNumbers      | _id      |\r\n",
        "|--------------------+----------------+--------------------------+--------------------------+----------|\r\n",
        "|  Myotis hasseltii  | ZOO            | 1878.2.8.2               | NHMUK:ecatalogue:3838232 | 1516684  |\r\n",
        "|                    | ZOO            | 1964.61.147              | NHMUK:ecatalogue:4194826 | 1516690  |\r\n",
        "|  Rectuvigerina sp. | PAL            | PM BP 7597               | NHMUK:ecatalogue:2057860 | 1516693  |\r\n",
        "|  Blechnum L.       | BOT            | HUMID CHACO BM ID - 2243 | NHMUK:ecatalogue:4582482 | 982216   |\r\n",
        "|--------------------+----------------+--------------------------+--------------------------+----------|\r\n"
       ]
      }
     ],
     "prompt_number": 21
    },
    {
     "cell_type": "code",
     "collapsed": false,
     "input": [
      "!wc occurrence.csv"
     ],
     "language": "python",
     "metadata": {},
     "outputs": [
      {
       "output_type": "stream",
       "stream": "stdout",
       "text": [
        "   2741852   95473453 1762863462 occurrence.csv\r\n"
       ]
      }
     ],
     "prompt_number": 65
    },
    {
     "cell_type": "code",
     "collapsed": false,
     "input": [
      "!sort -u occurrence.csv | wc"
     ],
     "language": "python",
     "metadata": {},
     "outputs": [
      {
       "output_type": "stream",
       "stream": "stdout",
       "text": [
        "1796924 62418842 1153369550\r\n"
       ]
      }
     ],
     "prompt_number": 137
    },
    {
     "cell_type": "code",
     "collapsed": false,
     "input": [
      "!csvcut -c 4 occurrence.csv > catalognumbers.txt"
     ],
     "language": "python",
     "metadata": {},
     "outputs": [],
     "prompt_number": 66
    },
    {
     "cell_type": "code",
     "collapsed": false,
     "input": [
      "!wc catalognumbers.txt"
     ],
     "language": "python",
     "metadata": {},
     "outputs": [
      {
       "output_type": "stream",
       "stream": "stdout",
       "text": [
        " 2741875  3777129 35208350 catalognumbers.txt\r\n"
       ]
      }
     ],
     "prompt_number": 67
    },
    {
     "cell_type": "markdown",
     "metadata": {},
     "source": [
      "Thanks **Christian Pietsch @ChPietsch** for reminding me about _csvclean_ https://twitter.com/ChPietsch/status/594265427427106817"
     ]
    },
    {
     "cell_type": "code",
     "collapsed": false,
     "input": [
      "!csvclean occurrence.csv "
     ],
     "language": "python",
     "metadata": {},
     "outputs": [],
     "prompt_number": 68
    },
    {
     "cell_type": "code",
     "collapsed": false,
     "input": [
      "!csvcut -c 4 occurrence_out.csv > catalognumbers.txt"
     ],
     "language": "python",
     "metadata": {},
     "outputs": [],
     "prompt_number": 69
    },
    {
     "cell_type": "code",
     "collapsed": false,
     "input": [
      "!wc catalognumbers.txt"
     ],
     "language": "python",
     "metadata": {},
     "outputs": [
      {
       "output_type": "stream",
       "stream": "stdout",
       "text": [
        " 2741875  3777129 35208350 catalognumbers.txt\r\n"
       ]
      }
     ],
     "prompt_number": 70
    },
    {
     "cell_type": "code",
     "collapsed": false,
     "input": [
      "!ls -lh catalognumbers.txt"
     ],
     "language": "python",
     "metadata": {},
     "outputs": [
      {
       "output_type": "stream",
       "stream": "stdout",
       "text": [
        "-rw-rw-r-- 1 ross ross 34M May  1 23:46 catalognumbers.txt\r\n"
       ]
      }
     ],
     "prompt_number": 71
    },
    {
     "cell_type": "code",
     "collapsed": false,
     "input": [
      "!head catalognumbers.txt"
     ],
     "language": "python",
     "metadata": {},
     "outputs": [
      {
       "output_type": "stream",
       "stream": "stdout",
       "text": [
        "catalogNumber\r\n",
        "1878.2.8.2\r\n",
        "1964.61.147\r\n",
        "PM BP 7597\r\n",
        "HUMID CHACO BM ID - 2243\r\n",
        "BMNH(E)1027709\r\n",
        "BM000756825\r\n",
        "BM000595187\r\n",
        "E/1941.9.4.668\r\n",
        "1956.7.2.61-69\r\n"
       ]
      }
     ],
     "prompt_number": 72
    },
    {
     "cell_type": "code",
     "collapsed": false,
     "input": [
      "!sed -i '1d' catalognumbers.txt"
     ],
     "language": "python",
     "metadata": {},
     "outputs": [],
     "prompt_number": 73
    },
    {
     "cell_type": "code",
     "collapsed": false,
     "input": [
      "!head catalognumbers.txt"
     ],
     "language": "python",
     "metadata": {},
     "outputs": [
      {
       "output_type": "stream",
       "stream": "stdout",
       "text": [
        "1878.2.8.2\r\n",
        "1964.61.147\r\n",
        "PM BP 7597\r\n",
        "HUMID CHACO BM ID - 2243\r\n",
        "BMNH(E)1027709\r\n",
        "BM000756825\r\n",
        "BM000595187\r\n",
        "E/1941.9.4.668\r\n",
        "1956.7.2.61-69\r\n",
        "1898.5.20.10865\r\n"
       ]
      }
     ],
     "prompt_number": 74
    },
    {
     "cell_type": "code",
     "collapsed": false,
     "input": [
      "!sort catalognumbers.txt | uniq -c > sortedcatalog.txt"
     ],
     "language": "python",
     "metadata": {},
     "outputs": [],
     "prompt_number": 82
    },
    {
     "cell_type": "code",
     "collapsed": false,
     "input": [
      "!wc sortedcatalog.txt"
     ],
     "language": "python",
     "metadata": {},
     "outputs": [
      {
       "output_type": "stream",
       "stream": "stdout",
       "text": [
        " 1658195  3963987 35110407 sortedcatalog.txt\r\n"
       ]
      }
     ],
     "prompt_number": 83
    },
    {
     "cell_type": "code",
     "collapsed": false,
     "input": [
      "!head sortedcatalog.txt"
     ],
     "language": "python",
     "metadata": {},
     "outputs": [
      {
       "output_type": "stream",
       "stream": "stdout",
       "text": [
        "      7 -\r\n",
        "      2 --\r\n",
        "      3 ---\r\n",
        "      3 ----\r\n",
        "     10 ?\r\n",
        "  57810 \"\"\r\n",
        "      1 00000000\r\n",
        "      1 000000000\r\n",
        "      2 00000000a\r\n",
        "      1 000009394\r\n"
       ]
      }
     ],
     "prompt_number": 84
    },
    {
     "cell_type": "code",
     "collapsed": false,
     "input": [
      "!tail sortedcatalog.txt"
     ],
     "language": "python",
     "metadata": {},
     "outputs": [
      {
       "output_type": "stream",
       "stream": "stdout",
       "text": [
        "      1 Zthellung29jul1915\r\n",
        "      2 Zthomas8106\r\n",
        "      1 Zthompson8131\r\n",
        "      2 Ztrinkler1927-28\r\n",
        "      1 Ztsiang6482\r\n",
        "      1 Zvetter3aug1881\r\n",
        "      2 Zwehrli18nov1905\r\n",
        "      1 ZZ.1978.3170\r\n",
        "      1 Zzogg2193\r\n",
        "      1 Zzollinger3577\r\n"
       ]
      }
     ],
     "prompt_number": 85
    },
    {
     "cell_type": "code",
     "collapsed": false,
     "input": [
      "!sed -i '1,9d' sortedcatalog.txt"
     ],
     "language": "python",
     "metadata": {},
     "outputs": [],
     "prompt_number": 86
    },
    {
     "cell_type": "code",
     "collapsed": false,
     "input": [
      "!cat sortedcatalog.txt | awk '{ print length, $0 }' | sort -n | awk '{$1=\"\"; print $0}' > sortedbylinelength.txt"
     ],
     "language": "python",
     "metadata": {},
     "outputs": [
      {
       "output_type": "stream",
       "stream": "stdout",
       "text": [
        "000009394\r\n",
        "000009395\r\n",
        "000016280\r\n",
        "000016282\r\n",
        "000056192\r\n",
        "000057469\r\n",
        "000065785\r\n",
        "000074094\r\n",
        "000074926\r\n",
        "000076703\r\n",
        "000080968\r\n",
        "000087186\r\n",
        "000095812\r\n",
        "000097635\r\n",
        "000097654\r\n",
        "000097681\r\n",
        "000097693\r\n",
        "000097708\r\n",
        "000097722\r\n",
        "01.01.02.55-57\r\n",
        "01.01.02.58-59\r\n",
        "01.01.02.60-61\r\n",
        "01.01.02.62-64\r\n",
        "01.01.03.01-02\r\n",
        "01.01.03.03-04\r\n",
        "01.01.03.08\r\n",
        "01.01.03.09-10\r\n",
        "01.01.03.11-12\r\n",
        "01.01.03.13-15\r\n",
        "01.01.03.16-17\r\n",
        "01.01.03.18-20\r\n",
        "01.01.03.21-22\r\n",
        "01.01.03.24-26\r\n",
        "01.01.03.27-29\r\n",
        "01.01.03.30\r\n",
        "01.01.03.31-33\r\n",
        "01.01.03.34-35\r\n",
        "01.01.03.36-38\r\n",
        "01.01.03.39-41\r\n",
        "0.10.4.3\r\n",
        "0].11.19.4\r\n",
        "01.5.11.2\r\n",
        "0.2.5.38-41\r\n",
        "0.2.5.38-419.1.4.49\r\n",
        "0.2.5.42-44\r\n",
        "0.5.7.1\r\n",
        "0.6.29.10\r\n",
        "0.6.29.11\r\n",
        "0.6.29.12\r\n",
        "0.6.29.13\r\n"
       ]
      }
     ],
     "prompt_number": 81
    },
    {
     "cell_type": "code",
     "collapsed": false,
     "input": [
      "!head -50 sortedbylinelength.txt"
     ],
     "language": "python",
     "metadata": {},
     "outputs": [
      {
       "output_type": "stream",
       "stream": "stdout",
       "text": [
        " 10 8\r\n",
        " 11 2\r\n",
        " 11 4\r\n",
        " 11 9\r\n",
        " 12 3\r\n",
        " 12 6\r\n",
        " 13 1\r\n",
        " 1 D\r\n",
        " 1 h\r\n",
        " 1 p\r\n",
        " 1 q\r\n",
        " 1 s\r\n",
        " 20 a\r\n",
        " 2 g\r\n",
        " 2 j\r\n",
        " 2 l\r\n",
        " 2 n\r\n",
        " 2 r\r\n",
        " 3 c\r\n",
        " 3 e\r\n",
        " 6 b\r\n",
        " 7 5\r\n",
        " 8 7\r\n",
        " 10 14\r\n",
        " 10 48\r\n",
        " 105 ZD\r\n",
        " 10 96\r\n",
        " 11 16\r\n",
        " 12 15\r\n",
        " 13373 E/\r\n",
        " 14 12\r\n",
        " 1 49\r\n",
        " 1 63\r\n",
        " 1 68\r\n",
        " 17 13\r\n",
        " 1 77\r\n",
        " 1 98\r\n",
        " 1 BM\r\n",
        " 1 nd\r\n",
        " 1 S/\r\n",
        " 2 26\r\n",
        " 2 28\r\n",
        " 2 43\r\n",
        " 2 53\r\n",
        " 2 62\r\n",
        " 2 78\r\n",
        " 2 79\r\n",
        " 2 85\r\n",
        " 2 88\r\n",
        " 2 9[\r\n"
       ]
      }
     ],
     "prompt_number": 87
    },
    {
     "cell_type": "code",
     "collapsed": false,
     "input": [
      "!grep '[0-9][0-9][0-9][0-9]\\.' sortedbylinelength.txt | wc"
     ],
     "language": "python",
     "metadata": {},
     "outputs": [
      {
       "output_type": "stream",
       "stream": "stdout",
       "text": [
        " 621947 1308084 10343759\r\n"
       ]
      }
     ],
     "prompt_number": 89
    },
    {
     "cell_type": "code",
     "collapsed": false,
     "input": [
      "!grep 'ZD' sortedbylinelength.txt | wc"
     ],
     "language": "python",
     "metadata": {},
     "outputs": [
      {
       "output_type": "stream",
       "stream": "stdout",
       "text": [
        "  63499  189231 1067940\r\n"
       ]
      }
     ],
     "prompt_number": 90
    },
    {
     "cell_type": "code",
     "collapsed": false,
     "input": [
      "!grep 'ARC' sortedbylinelength.txt #50 matches"
     ],
     "language": "python",
     "metadata": {},
     "outputs": [
      {
       "output_type": "stream",
       "stream": "stdout",
       "text": [
        " 1 ARC 1970.3015\r\n",
        " 1 ARC 1970.3019\r\n",
        " 1 ARC 1970.3063\r\n",
        " 1 ARC 1976.5109\r\n",
        " 1 ARC 1977.5002\r\n",
        " 1 ARC 1979.5357\r\n",
        " 1 ARC 1979.5360\r\n",
        " 1 ARC 1979.5361\r\n",
        " 1 ARC 1979.5362\r\n",
        " 1 ARC 1979.5363\r\n",
        " 1 ARC 1979.5364\r\n",
        " 1 ARC 1979.5373\r\n",
        " 1 ARC 1979.5374\r\n",
        " 1 ARC 1979.5377\r\n",
        " 1 ARC 1979.5381\r\n",
        " 1 ARC 1979.5382\r\n",
        " 1 ARC 1979.5387\r\n",
        " 1 ARC 1979.5390\r\n",
        " 1 ARC 1979.5393\r\n",
        " 1 ARC 1979.5397\r\n",
        " 1 ARC 1979.5408\r\n",
        " 1 ARC 1984.5021\r\n",
        " 1 ARC 1985.5134\r\n",
        " 2 ARC 1979.5370\r\n",
        " 2 ARC 1979.5376\r\n",
        " 2 ARC 1979.5379\r\n",
        " 2 ARC 1979.5407\r\n",
        " 2 ARC 1981.5581\r\n",
        " 2 ARC 1983.5004\r\n",
        " 3 ARC 1979.5017\r\n",
        " 3 ARC 1979.5367\r\n",
        " 3 ARC 1979.5368\r\n",
        " 3 ARC 1979.5389\r\n",
        " 4 ARC 1979.5378\r\n",
        " 1 ARC 1975.5075.a\r\n",
        " 1 ARC 1969.396.1-20\r\n",
        " 2 ARC 1975.5043.G22\r\n",
        " 2 ARC 1975.5022.N9.1\r\n",
        " 1 ARC 1975.5042.JpB4 46\r\n",
        " 1 ARC 1975.5065.F105.10\r\n",
        " 1 ARC 1975.5342.F300-17\r\n",
        " 1 ARC 1975.5387.D405-12\r\n",
        " 2 ARC 1975.5043.Jp E3-9\r\n",
        " 1 ARC 1975.5045.0 201-46\r\n",
        " 3 ARC 1975.5044.JpM 7-8B\r\n",
        " 1 ARC 1975.5043.JpF 101-7\r\n",
        " 1 ARC 1975.5045.F100/15AA\r\n",
        " 2 ARC 1975.5045.F100/11CC\r\n",
        " 2 ARC 1977.5003.F7GG74165\r\n",
        " 2 ARC 1977.5003.F7GG74168\r\n"
       ]
      }
     ],
     "prompt_number": 92
    },
    {
     "cell_type": "code",
     "collapsed": false,
     "input": [
      "!grep 'BK' sortedbylinelength.txt #5 matches"
     ],
     "language": "python",
     "metadata": {},
     "outputs": [
      {
       "output_type": "stream",
       "stream": "stdout",
       "text": [
        " 2 BK 465. No museum number\r\n",
        " 1 BK 1398. No museum number\r\n",
        " 1 BK 1400. No museum number\r\n",
        " 3 BK 1401. No museum number\r\n",
        " 3 BK 1496. No museum number\r\n"
       ]
      }
     ],
     "prompt_number": 93
    },
    {
     "cell_type": "code",
     "collapsed": false,
     "input": [
      "!grep 'E/' sortedbylinelength.txt | wc"
     ],
     "language": "python",
     "metadata": {},
     "outputs": [
      {
       "output_type": "stream",
       "stream": "stdout",
       "text": [
        "  11179   22381  201356\r\n"
       ]
      }
     ],
     "prompt_number": 94
    },
    {
     "cell_type": "code",
     "collapsed": false,
     "input": [
      "!grep -v '[0-9][0-9][0-9][0-9]\\.' sortedbylinelength.txt | grep -v 'ZD' | grep -v 'E/' > oddones.txt"
     ],
     "language": "python",
     "metadata": {},
     "outputs": [],
     "prompt_number": 95
    },
    {
     "cell_type": "code",
     "collapsed": false,
     "input": [
      "!wc oddones.txt"
     ],
     "language": "python",
     "metadata": {},
     "outputs": [
      {
       "output_type": "stream",
       "stream": "stdout",
       "text": [
        " 1036178  2655738 16474400 oddones.txt\r\n"
       ]
      }
     ],
     "prompt_number": 97
    },
    {
     "cell_type": "code",
     "collapsed": false,
     "input": [
      "!grep 'BRITFERN' oddones.txt | wc "
     ],
     "language": "python",
     "metadata": {},
     "outputs": [
      {
       "output_type": "stream",
       "stream": "stdout",
       "text": [
        "     78     544    3623\r\n"
       ]
      }
     ],
     "prompt_number": 98
    },
    {
     "cell_type": "code",
     "collapsed": false,
     "input": [
      "!grep 'Malesiana' oddones.txt | wc "
     ],
     "language": "python",
     "metadata": {},
     "outputs": [
      {
       "output_type": "stream",
       "stream": "stdout",
       "text": [
        "    164     842    6581\r\n"
       ]
      }
     ],
     "prompt_number": 99
    },
    {
     "cell_type": "code",
     "collapsed": false,
     "input": [
      "!grep 'Azores' oddones.txt | wc "
     ],
     "language": "python",
     "metadata": {},
     "outputs": [
      {
       "output_type": "stream",
       "stream": "stdout",
       "text": [
        "    773    5411   33239\r\n"
       ]
      }
     ],
     "prompt_number": 100
    },
    {
     "cell_type": "code",
     "collapsed": false,
     "input": [
      "!grep 'JMC' oddones.txt | wc "
     ],
     "language": "python",
     "metadata": {},
     "outputs": [
      {
       "output_type": "stream",
       "stream": "stdout",
       "text": [
        "   3001   13477   88038\r\n"
       ]
      }
     ],
     "prompt_number": 101
    },
    {
     "cell_type": "code",
     "collapsed": false,
     "input": [
      "!grep 'New Caledonia Brownlie' oddones.txt | wc "
     ],
     "language": "python",
     "metadata": {},
     "outputs": [
      {
       "output_type": "stream",
       "stream": "stdout",
       "text": [
        "     57     342    1938\r\n"
       ]
      }
     ],
     "prompt_number": 104
    },
    {
     "cell_type": "code",
     "collapsed": false,
     "input": [
      "!grep 'Paradox loan' oddones.txt | wc "
     ],
     "language": "python",
     "metadata": {},
     "outputs": [
      {
       "output_type": "stream",
       "stream": "stdout",
       "text": [
        "    644    4508   23752\r\n"
       ]
      }
     ],
     "prompt_number": 107
    },
    {
     "cell_type": "code",
     "collapsed": false,
     "input": [
      "!grep 'BM-BRIT-EURO' oddones.txt | wc "
     ],
     "language": "python",
     "metadata": {},
     "outputs": [
      {
       "output_type": "stream",
       "stream": "stdout",
       "text": [
        "   7905   23717  168951\r\n"
       ]
      }
     ],
     "prompt_number": 108
    },
    {
     "cell_type": "code",
     "collapsed": false,
     "input": [
      "!grep 'PI D ' oddones.txt | wc"
     ],
     "language": "python",
     "metadata": {},
     "outputs": [
      {
       "output_type": "stream",
       "stream": "stdout",
       "text": [
        "   3218   13090   45403\r\n"
       ]
      }
     ],
     "prompt_number": 110
    },
    {
     "cell_type": "code",
     "collapsed": false,
     "input": [
      "!grep 'PI BZ ' oddones.txt | wc"
     ],
     "language": "python",
     "metadata": {},
     "outputs": [
      {
       "output_type": "stream",
       "stream": "stdout",
       "text": [
        "   4932   20959   72657\r\n"
       ]
      }
     ],
     "prompt_number": 112
    },
    {
     "cell_type": "code",
     "collapsed": false,
     "input": [
      "!grep 'SEM' oddones.txt | wc"
     ],
     "language": "python",
     "metadata": {},
     "outputs": [
      {
       "output_type": "stream",
       "stream": "stdout",
       "text": [
        "    100     716    3066\r\n"
       ]
      }
     ],
     "prompt_number": 111
    },
    {
     "cell_type": "code",
     "collapsed": false,
     "input": [
      "!grep -i 'Gilbert' oddones.txt | wc #\"Gilbert Qinghai Colls\" on website gives 3136 records BOT  DUPLICATE CAT NUMBERS!!!"
     ],
     "language": "python",
     "metadata": {},
     "outputs": [
      {
       "output_type": "stream",
       "stream": "stdout",
       "text": [
        "   2402   14412   75312\r\n"
       ]
      }
     ],
     "prompt_number": 117
    },
    {
     "cell_type": "markdown",
     "metadata": {},
     "source": [
      "http://data.nhm.ac.uk/dataset/collection-specimens/resource/05ff2255-c38a-40c9-b657-4ccb55ab2feb?q=Gilbert+Qinghai+Colls&view_id=6b611d29-1dcf-4c60-b6b5-4cbb69fdf4fe"
     ]
    },
    {
     "cell_type": "code",
     "collapsed": false,
     "input": [
      "!grep 'Gilbert Qinghai Colls' occurrence_out.csv | wc"
     ],
     "language": "python",
     "metadata": {},
     "outputs": [
      {
       "output_type": "stream",
       "stream": "stdout",
       "text": [
        "   3098  256271 2929973\r\n"
       ]
      }
     ],
     "prompt_number": 118
    },
    {
     "cell_type": "code",
     "collapsed": false,
     "input": [
      "!grep 'Yasuni BM specimens' oddones.txt | wc #should be 27 NOT duplicate CAT NUMBERS"
     ],
     "language": "python",
     "metadata": {},
     "outputs": [
      {
       "output_type": "stream",
       "stream": "stdout",
       "text": [
        "     20     120     620\r\n"
       ]
      }
     ],
     "prompt_number": 119
    },
    {
     "cell_type": "markdown",
     "metadata": {},
     "source": [
      "http://data.nhm.ac.uk/dataset/collection-specimens/resource/05ff2255-c38a-40c9-b657-4ccb55ab2feb?q=%22Yasuni+BM+specimens%22&view_id=6b611d29-1dcf-4c60-b6b5-4cbb69fdf4fe"
     ]
    },
    {
     "cell_type": "code",
     "collapsed": false,
     "input": [
      "!grep 'Yasuni BM specimens' occurrence_out.csv | grep -o 48[0-9][0-9][0-9] | sort #48152 is missing"
     ],
     "language": "python",
     "metadata": {},
     "outputs": [
      {
       "output_type": "stream",
       "stream": "stdout",
       "text": [
        "48153\r\n",
        "48214\r\n",
        "48214\r\n",
        "48217\r\n",
        "48221\r\n",
        "48222\r\n",
        "48237\r\n",
        "48238\r\n",
        "48282\r\n",
        "48282\r\n",
        "48283\r\n",
        "48286\r\n",
        "48286\r\n",
        "48286\r\n",
        "48288\r\n",
        "48289\r\n",
        "48290\r\n",
        "48294\r\n",
        "48297\r\n",
        "48304\r\n",
        "48305\r\n",
        "48306\r\n",
        "48310\r\n",
        "48310\r\n",
        "48310\r\n",
        "48315\r\n"
       ]
      }
     ],
     "prompt_number": 132
    },
    {
     "cell_type": "markdown",
     "metadata": {},
     "source": [
      "missing record details: http://data.nhm.ac.uk/dataset/collection-specimens/resource/05ff2255-c38a-40c9-b657-4ccb55ab2feb/record/873394 "
     ]
    },
    {
     "cell_type": "code",
     "collapsed": false,
     "input": [
      "!grep 'NHMUK:ecatalogue:4614078' occurrence.csv #alternate ID not found either"
     ],
     "language": "python",
     "metadata": {},
     "outputs": [],
     "prompt_number": 135
    },
    {
     "cell_type": "code",
     "collapsed": false,
     "input": [
      "!grep -o 'Yasuni BM specimens .......' occurrence.csv | sort"
     ],
     "language": "python",
     "metadata": {},
     "outputs": [
      {
       "output_type": "stream",
       "stream": "stdout",
       "text": [
        "Yasuni BM specimens - 48153\r\n",
        "Yasuni BM specimens - 48214\r\n",
        "Yasuni BM specimens - 48214\r\n",
        "Yasuni BM specimens - 48217\r\n",
        "Yasuni BM specimens - 48221\r\n",
        "Yasuni BM specimens - 48222\r\n",
        "Yasuni BM specimens - 48237\r\n",
        "Yasuni BM specimens - 48238\r\n",
        "Yasuni BM specimens - 48282\r\n",
        "Yasuni BM specimens - 48282\r\n",
        "Yasuni BM specimens - 48283\r\n",
        "Yasuni BM specimens - 48286\r\n",
        "Yasuni BM specimens - 48286\r\n",
        "Yasuni BM specimens - 48286\r\n",
        "Yasuni BM specimens - 48288\r\n",
        "Yasuni BM specimens - 48289\r\n",
        "Yasuni BM specimens - 48290\r\n",
        "Yasuni BM specimens - 48294\r\n",
        "Yasuni BM specimens - 48297\r\n",
        "Yasuni BM specimens - 48304\r\n",
        "Yasuni BM specimens - 48305\r\n",
        "Yasuni BM specimens - 48306\r\n",
        "Yasuni BM specimens - 48310\r\n",
        "Yasuni BM specimens - 48310\r\n",
        "Yasuni BM specimens - 48310\r\n",
        "Yasuni BM specimens - 48315\r\n"
       ]
      }
     ],
     "prompt_number": 136
    },
    {
     "cell_type": "code",
     "collapsed": false,
     "input": [
      "!grep -o 'Yasuni BM specimens - 48152' occurrence.csv #nothing"
     ],
     "language": "python",
     "metadata": {},
     "outputs": [],
     "prompt_number": 133
    },
    {
     "cell_type": "code",
     "collapsed": false,
     "input": [
      "!grep 'Gilbert Hainan Colls' oddones.txt | wc #should be 631"
     ],
     "language": "python",
     "metadata": {},
     "outputs": [
      {
       "output_type": "stream",
       "stream": "stdout",
       "text": [
        "    399    2394   11896\r\n"
       ]
      }
     ],
     "prompt_number": 121
    },
    {
     "cell_type": "code",
     "collapsed": false,
     "input": [
      "!grep 'BelizeColl2007' oddones.txt | wc #should be 212"
     ],
     "language": "python",
     "metadata": {},
     "outputs": [
      {
       "output_type": "stream",
       "stream": "stdout",
       "text": [
        "    131     524    3799\r\n"
       ]
      }
     ],
     "prompt_number": 122
    },
    {
     "cell_type": "markdown",
     "metadata": {},
     "source": [
      "Conclusions:\n",
      "\n",
      "* 2741874 records from initial export\n",
      "* perhaps only 2741852 were real records (export problem?)\n",
      "* 1658195 unique catalog numbers entries (inc. all 'dirty' entries)\n",
      "* at least 897 unique catalog numbers are 3 digits or less\n",
      "* 621947 match '[0-9][0-9][0-9][0-9]\\.'\n",
      "* 63499 match 'ZD' "
     ]
    },
    {
     "cell_type": "code",
     "collapsed": false,
     "input": [
      "!grep '[0-9][0-9][0-9][0-9]\\.' sortedbylinelength.txt | wc"
     ],
     "language": "python",
     "metadata": {},
     "outputs": []
    }
   ],
   "metadata": {}
  }
 ]
}